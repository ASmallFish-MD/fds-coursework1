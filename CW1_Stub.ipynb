{
 "cells": [
  {
   "cell_type": "markdown",
   "metadata": {},
   "source": [
    "# Foundations of Data Science (FDS) CourseWork 1 - Semester 1, October 2020. \n",
    "\n",
    "\n",
    "#### Authors: Kobi Gal and David Sterratt"
   ]
  },
  {
   "cell_type": "markdown",
   "metadata": {},
   "source": [
    "## Data Wrangling and visualization \n",
    "Released: Monday 19 October 2020 <br>\n",
    "Deadline for submission: **Friday 30 Oct 4pm** on Learn"
   ]
  },
  {
   "cell_type": "markdown",
   "metadata": {},
   "source": [
    "As per the Informatics [Late Coursework & Extensions](http://web.inf.ed.ac.uk/infweb/student-services/ito/admin/coursework-projects/late-coursework-extension-requests) policy, late coursework without an authorised extension will be recorded as late and the following penalties will apply:<br>\n",
    "\n",
    "- 5 percentage points will be deducted for every calendar day or part thereof it is late, up to a maximum of 7 calendar days. \n",
    "\n",
    "- If you have not submitted coursework within these 7 days, a mark of zero will be recorded. \n",
    "<br>\n",
    "\n",
    "**It is very important that you read and follow the instructions below to the letter: you will be deducted marks for not adhering to the advice below.**\n",
    "\n",
    "### Good Scholarly Practice \n",
    "\n",
    "Please remember the University requirement as regards all assessed work for credit.  Details about this can be found at: [http://web.inf.ed.ac.uk/infweb/admin/policies/academic-misconduct](http://web.inf.ed.ac.uk/infweb/admin/policies/academic-misconduct)\n",
    "<br>\n",
    "Specifically, this coursework **must be your own work**. We want you to be able to discuss the class material with each other, but the coursework you submit must be your own work. You are free to form study groups and discuss the concepts related to, and the high-level approach to the coursework. **You may never share code or share write-ups**. It is also not permitted to discuss this coursework on Piazza. The only exception is that if you believe there is an error in the coursework, you may ask a private question to the instructors, and if we feel that the issue is justified, we will send out an announcement.\n",
    "\n",
    "### General Instructions \n",
    "\n",
    "- This assignment accounts for 20% of the mark for this course and is graded based on a Jupyter notebook, which you are to submit via Learn (see below). The actual assignment is marked out of 100 and the number of marks is indicated by each question below. \n",
    "\n",
    "- The criteria on which you will be judged include the functional code, and the quality of the textual answers and plots asked for. \n",
    "\n",
    "- Read the instructions carefully, answering what is required and only that. Keep your answers brief and concise. \n",
    "\n",
    "- For answers involving figures, make sure to clearly label your plots and provide legends where necessary. You will gain marks for clear visualizations. \n",
    "\n",
    "- For answers involving numerical values, use correct units where appropriate and format floating point values to a reasonable number of decimal places. \n",
    "\n",
    "### Submission \n",
    "\n",
    "Your submission should be in the form of a Jupyter notebook including your code, the visualizations you created for each question, and your analysis. The notebook will read the given data and generate the requested visualizations - it is not necessary to show the exploration of the data.  Please submit the notebook in three formats: ipynb, html, and pdf.  \n",
    "\n",
    "### Coursework questions \n",
    "\n",
    "In this coursework, we will ask you to analyse and visualize two datasets. The coursework includes data from Japanese restaurants that was collected from multiple review sites.\n",
    "<br>\n",
    "The Japanese Restaurant Review Dataset includes reviews from the following websites:  \n",
    "- [Hot Pepper Gourmet](https://www.hotpepper-gourmet.com/en) (hpg): similar to [Yelp](https://www.yelp.com/search?find_desc=Restaurants&find_loc=japan), here users can search restaurants and also make a reservation online.\n",
    "\n",
    "- [AirREGI](https://airregi.jp) / Restaurant Board (air): similar to [Square](https://squareup.com/us/en), a reservation control and cash register system. \n",
    "\n",
    "The data includes the ID of the restaurant, the date and time of visits and reservation-making, restaurant location in Japan, and restaurant type. You will find explanations about the files and variables in them in the “Information_On_Files.txt” file in the files you download in step 1 below. \n",
    "<br>\n",
    "In this assignment you will need to obtain datasets from different sources, preprocess the data, and generate visualizations that show interesting patterns. "
   ]
  },
  {
   "cell_type": "markdown",
   "metadata": {},
   "source": [
    "#### IMPORTS\n",
    "\n",
    "Execute the cell below to import all packages you will be using for this assignment."
   ]
  },
  {
   "cell_type": "code",
   "execution_count": 3,
   "metadata": {},
   "outputs": [
    {
     "name": "stdout",
     "output_type": "stream",
     "text": [
      "All packages imported!\n"
     ]
    }
   ],
   "source": [
    "import os\n",
    "import sys\n",
    "import numpy as np\n",
    "import pandas as pd\n",
    "import seaborn as sns\n",
    "import matplotlib.pyplot as plt\n",
    "import datetime\n",
    "import matplotlib as mpl\n",
    "import warnings \n",
    "warnings.filterwarnings('ignore')\n",
    "np.random.seed(42)\n",
    "\n",
    "print(\"All packages imported!\")"
   ]
  },
  {
   "cell_type": "markdown",
   "metadata": {},
   "source": [
    "### Question 1: Download the datasets\n",
    "\n",
    "Download the data sets from  \n",
    "[https://github.com/Inf2-FDS/fds-coursework1](https://github.com/Inf2-FDS/fds-coursework1)\n",
    "<br>\n",
    "If you are using Noteable, you can clone this repository into Noteable as you have done with the Lab exercises. If you are not using Noteable, please do not fork the repository, leave the forked repository public, and thereby allow others to see your solutions. "
   ]
  },
  {
   "cell_type": "markdown",
   "metadata": {},
   "source": [
    "### Question 2: Same restaurants different datasets [20 marks]\n",
    "\n",
    "The following question relates to customer visits in 2016 to those restaurants that appear in both **hpg** and **air** datasets (see store_id_relation.csv file). Which dataset generated more visits to these restaurants in 2016? Please visualize your answer. To determine whether a reservation was made for 2016 use the \"visit_datetime\" field in the respective reservation file hpg_reserve and air_reserve."
   ]
  },
  {
   "cell_type": "markdown",
   "metadata": {},
   "source": [
    "***Your code goes here:***"
   ]
  },
  {
   "cell_type": "markdown",
   "metadata": {},
   "source": [
    "### Question 3: Restaurant genre and location [25 marks]\n",
    "\n",
    "The following question relates to restaurants in the **air** dataset. Use a scatterplot to visualize restaurants by location and type of restaurant (you might want to add a small random noise to the restaurant location to reduce overlap in the plot). You can choose how to represent the restaurant location (e.g., longitude/latitude, distance from city centre, or other). Note there are many restaurant categories. You should collapse the different categories to 4 or 5 categories based on your best judgement (e.g., Asian, International, Bar and party, Cafe and sweets). What can you infer from the plot you created about the relationship of the restaurant categories and their location?"
   ]
  },
  {
   "cell_type": "markdown",
   "metadata": {},
   "source": [
    "***Your code goes here:***"
   ]
  },
  {
   "cell_type": "markdown",
   "metadata": {},
   "source": [
    "***Your text goes here:***"
   ]
  },
  {
   "cell_type": "markdown",
   "metadata": {},
   "source": [
    "### Question 4: Mean number of visitors [15 marks]\n",
    "The following question relates to the **air** data set. Plot the trend of the mean number of visitors to restaurants vs. a time unit of your choice (e.g, daily, weekly, etc…). What is the trend that you see?  "
   ]
  },
  {
   "cell_type": "markdown",
   "metadata": {},
   "source": [
    "***Your code goes here:***"
   ]
  },
  {
   "cell_type": "markdown",
   "metadata": {},
   "source": [
    "***Your text goes here:***"
   ]
  },
  {
   "cell_type": "markdown",
   "metadata": {},
   "source": [
    "### Question 5: Histogram [15 marks]\n",
    "The following question relates to the **hpg** data set. Create a histogram of the number of visitors per day of the week (Sunday, Monday, …, Saturday). What can you infer from this graph? "
   ]
  },
  {
   "cell_type": "markdown",
   "metadata": {},
   "source": [
    "***Your code goes here:***"
   ]
  },
  {
   "cell_type": "markdown",
   "metadata": {},
   "source": [
    "***Your text goes here:***"
   ]
  },
  {
   "cell_type": "markdown",
   "metadata": {},
   "source": [
    "### Question 6: Food passion [25 marks]\n",
    "\n",
    "The following question relates to the **air** data set. We wish to determine which restaurant genre Japanese people are most passionate about. To this end we will analyse how much time people plan ahead before visiting a restaurant.  \n",
    "\n",
    "- Compute the time difference between reservation time and visit time. \n",
    "\n",
    "- Compare the time differences among restaurant genres using a visualization of your choice. Tip: In order to avoid outliers, it might be best to choose an upper threshold for values of preparation time. You may want to use the genre categories used in question 3 to reduce clutter. "
   ]
  },
  {
   "cell_type": "markdown",
   "metadata": {},
   "source": [
    "***Your code goes here:***"
   ]
  },
  {
   "cell_type": "markdown",
   "metadata": {},
   "source": [
    "***Your text goes here:***"
   ]
  }
 ],
 "metadata": {
  "kernelspec": {
   "display_name": "Python 3",
   "language": "python",
   "name": "python3"
  },
  "language_info": {
   "codemirror_mode": {
    "name": "ipython",
    "version": 3
   },
   "file_extension": ".py",
   "mimetype": "text/x-python",
   "name": "python",
   "nbconvert_exporter": "python",
   "pygments_lexer": "ipython3",
   "version": "3.7.6"
  }
 },
 "nbformat": 4,
 "nbformat_minor": 2
}
